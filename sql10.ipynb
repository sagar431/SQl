{
 "cells": [
  {
   "cell_type": "markdown",
   "id": "bc6f2b01",
   "metadata": {},
   "source": [
    "Q-19. Write an SQL query to determine the 5th highest salary without using TOP or limit\n",
    "method.\n",
    "Q-20. Write an SQL query to fetch the list of employees with the same salary."
   ]
  },
  {
   "cell_type": "markdown",
   "id": "2f2032d2",
   "metadata": {},
   "source": [
    "Q-19. SQL query to determine the 5th highest salary without using TOP or limit method:\n",
    "\n",
    "```\n",
    "SELECT DISTINCT Salary\n",
    "FROM Employee Emp1\n",
    "WHERE 5 = (\n",
    "   SELECT COUNT(DISTINCT Salary)\n",
    "   FROM Employee Emp2\n",
    "   WHERE Emp2.Salary >= Emp1.Salary)\n",
    "```\n",
    "\n",
    "Q-20. SQL query to fetch the list of employees with the same salary:\n",
    "\n",
    "```\n",
    "SELECT Emp1.Name, Emp1.Salary\n",
    "FROM Employee Emp1\n",
    "INNER JOIN Employee Emp2\n",
    "ON Emp1.Salary = Emp2.Salary\n",
    "WHERE Emp1.ID <> Emp2.ID\n",
    "```"
   ]
  },
  {
   "cell_type": "code",
   "execution_count": null,
   "id": "83d92dab",
   "metadata": {},
   "outputs": [],
   "source": []
  }
 ],
 "metadata": {
  "kernelspec": {
   "display_name": "Python 3 (ipykernel)",
   "language": "python",
   "name": "python3"
  },
  "language_info": {
   "codemirror_mode": {
    "name": "ipython",
    "version": 3
   },
   "file_extension": ".py",
   "mimetype": "text/x-python",
   "name": "python",
   "nbconvert_exporter": "python",
   "pygments_lexer": "ipython3",
   "version": "3.9.12"
  }
 },
 "nbformat": 4,
 "nbformat_minor": 5
}
