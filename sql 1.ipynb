{
 "cells": [
  {
   "cell_type": "raw",
   "id": "ee9597ef",
   "metadata": {},
   "source": [
    "Q-1. Write an SQL query to fetch “FIRST_NAME” from Worker table using the alias\n",
    "name as &lt;WORKER_NAME&gt;.\n",
    "Q-2. Write an SQL query to fetch unique values of DEPARTMENT from Worker table.\n",
    "Q-3. Write an SQL query to show the last 5 record from a table."
   ]
  },
  {
   "cell_type": "markdown",
   "id": "ade7444f",
   "metadata": {},
   "source": [
    "\n",
    "\n",
    "- For MySQL: SELECT * FROM table_name ORDER BY id DESC LIMIT 5;\n",
    "- For Oracle: SELECT * FROM (SELECT * FROM table_name ORDER BY id DESC) WHERE ROWNUM <= 5;\n",
    "- For SQL Server: SELECT TOP 5 * FROM table_name ORDER BY id DESC;\n",
    "- For PostgreSQL: SELECT * FROM table_name ORDER BY id DESC LIMIT 5;\n",
    "- For SQLite: SELECT * FROM table_name ORDER BY id DESC LIMIT 5;"
   ]
  },
  {
   "cell_type": "code",
   "execution_count": null,
   "id": "e1e46d1e",
   "metadata": {},
   "outputs": [],
   "source": []
  }
 ],
 "metadata": {
  "kernelspec": {
   "display_name": "Python 3 (ipykernel)",
   "language": "python",
   "name": "python3"
  },
  "language_info": {
   "codemirror_mode": {
    "name": "ipython",
    "version": 3
   },
   "file_extension": ".py",
   "mimetype": "text/x-python",
   "name": "python",
   "nbconvert_exporter": "python",
   "pygments_lexer": "ipython3",
   "version": "3.9.12"
  }
 },
 "nbformat": 4,
 "nbformat_minor": 5
}
