{
 "cells": [
  {
   "cell_type": "markdown",
   "id": "9981724d",
   "metadata": {},
   "source": [
    "Q-1. Write an SQL query to print the FIRST_NAME from Worker table after removing\n",
    "white spaces from the right side.\n",
    "Q-2. Write an SQL query that fetches the unique values of DEPARTMENT from Worker\n",
    "table and prints its length.\n",
    "Q-3. Write an SQL query to fetch nth max salaries from a table."
   ]
  },
  {
   "cell_type": "raw",
   "id": "a2a7255a",
   "metadata": {},
   "source": [
    "Q-1. SQL query to print the FIRST_NAME from Worker table after removing white spaces from the right side:\n",
    "\n",
    "```\n",
    "SELECT RTRIM(FIRST_NAME) AS WORKER_NAME FROM Worker;\n",
    "```\n",
    "\n",
    "Q-2. SQL query to fetch the unique values of DEPARTMENT from Worker table and print its length:\n",
    "\n",
    "```\n",
    "SELECT COUNT(DISTINCT DEPARTMENT) AS DEPT_COUNT FROM Worker;\n",
    "```\n",
    "\n",
    "Q-3. SQL query to fetch nth max salaries from a table:\n",
    "\n",
    "```\n",
    "SELECT DISTINCT Salary FROM Worker ORDER BY Salary DESC LIMIT n-1,1;\n",
    "```\n",
    "Note: Replace \"n\" with the desired value of \"n\" to fetch the nth maximum salary."
   ]
  },
  {
   "cell_type": "code",
   "execution_count": null,
   "id": "ff74737e",
   "metadata": {},
   "outputs": [],
   "source": []
  }
 ],
 "metadata": {
  "kernelspec": {
   "display_name": "Python 3 (ipykernel)",
   "language": "python",
   "name": "python3"
  },
  "language_info": {
   "codemirror_mode": {
    "name": "ipython",
    "version": 3
   },
   "file_extension": ".py",
   "mimetype": "text/x-python",
   "name": "python",
   "nbconvert_exporter": "python",
   "pygments_lexer": "ipython3",
   "version": "3.9.12"
  }
 },
 "nbformat": 4,
 "nbformat_minor": 5
}
