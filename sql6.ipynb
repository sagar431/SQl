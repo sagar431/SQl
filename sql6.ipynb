{
 "cells": [
  {
   "cell_type": "markdown",
   "id": "4431ebd7",
   "metadata": {},
   "source": [
    "Q-1. Write an SQL query to print details of the Workers who have joined in Feb’2014.\n",
    "Q-2. Write an SQL query to fetch duplicate records having matching data in some fields of\n",
    "a table.\n",
    "Q-3. How to remove duplicate rows from Employees table."
   ]
  },
  {
   "cell_type": "markdown",
   "id": "58618300",
   "metadata": {},
   "source": [
    "Q-1. To print details of the Workers who have joined in Feb’2014:\n",
    "```\n",
    "SELECT * FROM Workers WHERE JOIN_DATE LIKE '2014-02%';\n",
    "```\n",
    "\n",
    "Q-2. To fetch duplicate records having matching data in some fields of a table:\n",
    "```\n",
    "SELECT field1, field2, field3, COUNT(*) as Count\n",
    "FROM table_name\n",
    "GROUP BY field1, field2, field3\n",
    "HAVING COUNT(*) > 1;\n",
    "```\n",
    "\n",
    "Q-3. To remove duplicate rows from the Employees table:\n",
    "```\n",
    "DELETE FROM Employees \n",
    "WHERE ROWID NOT IN (SELECT MIN(ROWID) \n",
    "                    FROM Employees \n",
    "                    GROUP BY column1, column2, ...);\n",
    "```\n",
    "Note: Replace \"column1, column2, ...\" with the actual column names in the table."
   ]
  },
  {
   "cell_type": "code",
   "execution_count": null,
   "id": "15dbbf67",
   "metadata": {},
   "outputs": [],
   "source": []
  }
 ],
 "metadata": {
  "kernelspec": {
   "display_name": "Python 3 (ipykernel)",
   "language": "python",
   "name": "python3"
  },
  "language_info": {
   "codemirror_mode": {
    "name": "ipython",
    "version": 3
   },
   "file_extension": ".py",
   "mimetype": "text/x-python",
   "name": "python",
   "nbconvert_exporter": "python",
   "pygments_lexer": "ipython3",
   "version": "3.9.12"
  }
 },
 "nbformat": 4,
 "nbformat_minor": 5
}
