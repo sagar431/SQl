{
 "cells": [
  {
   "cell_type": "markdown",
   "id": "f3b946dd",
   "metadata": {},
   "source": [
    "Q-15. Write an SQL query to fetch intersecting records of two tables.\n",
    "Q-16. Write an SQL query to show records from one table that another table does not\n",
    "have."
   ]
  },
  {
   "cell_type": "markdown",
   "id": "204bc9e4",
   "metadata": {},
   "source": [
    "Q-15. Write an SQL query to fetch intersecting records of two tables.\n",
    "\n",
    "To fetch intersecting records of two tables, we can use the INNER JOIN clause. The INNER JOIN clause returns only the records that have matching values in both tables.\n",
    "\n",
    "Syntax:\n",
    "\n",
    "```\n",
    "SELECT column1, column2, ...\n",
    "FROM table1\n",
    "INNER JOIN table2\n",
    "ON table1.column = table2.column;\n",
    "```\n",
    "\n",
    "For example, let's say we have two tables \"table1\" and \"table2\" with columns \"id\" and \"name\". To fetch intersecting records of both tables, we can use the following query:\n",
    "\n",
    "```\n",
    "SELECT table1.id, table1.name\n",
    "FROM table1\n",
    "INNER JOIN table2\n",
    "ON table1.id = table2.id;\n",
    "```\n",
    "\n",
    "This query will return all the records from \"table1\" where the id value exists in both \"table1\" and \"table2\".\n",
    "\n",
    "\n",
    "Q-16. Write an SQL query to show records from one table that another table does not have.\n",
    "\n",
    "To show records from one table that another table does not have, we can use the LEFT JOIN clause. The LEFT JOIN clause returns all the records from the left table and the matching records from the right table. If there is no matching record in the right table, it returns NULL.\n",
    "\n",
    "Syntax:\n",
    "\n",
    "```\n",
    "SELECT column1, column2, ...\n",
    "FROM table1\n",
    "LEFT JOIN table2\n",
    "ON table1.column = table2.column\n",
    "WHERE table2.column IS NULL;\n",
    "```\n",
    "\n",
    "For example, let's say we have two tables \"table1\" and \"table2\" with columns \"id\" and \"name\". To show records from \"table1\" that do not exist in \"table2\", we can use the following query:\n",
    "\n",
    "```\n",
    "SELECT table1.id, table1.name\n",
    "FROM table1\n",
    "LEFT JOIN table2\n",
    "ON table1.id = table2.id\n",
    "WHERE table2.id IS NULL;\n",
    "```\n",
    "\n",
    "This query will return all the records from \"table1\" where the id value does not exist in \"table2\"."
   ]
  },
  {
   "cell_type": "code",
   "execution_count": null,
   "id": "6a38fa88",
   "metadata": {},
   "outputs": [],
   "source": []
  }
 ],
 "metadata": {
  "kernelspec": {
   "display_name": "Python 3 (ipykernel)",
   "language": "python",
   "name": "python3"
  },
  "language_info": {
   "codemirror_mode": {
    "name": "ipython",
    "version": 3
   },
   "file_extension": ".py",
   "mimetype": "text/x-python",
   "name": "python",
   "nbconvert_exporter": "python",
   "pygments_lexer": "ipython3",
   "version": "3.9.12"
  }
 },
 "nbformat": 4,
 "nbformat_minor": 5
}
