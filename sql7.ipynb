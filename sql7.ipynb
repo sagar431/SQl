{
 "cells": [
  {
   "cell_type": "markdown",
   "id": "1c382b81",
   "metadata": {},
   "source": [
    "Q-13. Write an SQL query to show only odd rows from a table.\n",
    "Q-14. Write an SQL query to clone a new table from another table."
   ]
  },
  {
   "cell_type": "markdown",
   "id": "e6cb2d54",
   "metadata": {},
   "source": [
    "Q-13. Write an SQL query to show only odd rows from a table.\n",
    "\n",
    "To show only odd rows from a table, we can use the modulus operator `%` with the `ROW_NUMBER()` function to filter out the even rows. Here is an example SQL query:\n",
    "\n",
    "```SQL\n",
    "SELECT *\n",
    "FROM (\n",
    "  SELECT *, ROW_NUMBER() OVER (ORDER BY column_name) AS row_num\n",
    "  FROM table_name\n",
    ") t\n",
    "WHERE row_num % 2 = 1;\n",
    "```\n",
    "\n",
    "This query will first assign row numbers to each row in the table, ordered by the `column_name`, and then filter out the rows where the row number is odd.\n",
    "\n",
    "Q-14. Write an SQL query to clone a new table from another table.\n",
    "\n",
    "To clone a new table from another table, we can use the `CREATE TABLE AS SELECT` statement. Here is an example SQL query:\n",
    "\n",
    "```SQL\n",
    "CREATE TABLE new_table_name AS\n",
    "SELECT *\n",
    "FROM original_table_name;\n",
    "```\n",
    "\n",
    "This query will create a new table with the same schema as the original table, and copy all the data from the original table into the new table. Note that any indexes, constraints, or triggers on the original table will not be copied to the new table."
   ]
  },
  {
   "cell_type": "code",
   "execution_count": null,
   "id": "261ad6fc",
   "metadata": {},
   "outputs": [],
   "source": []
  }
 ],
 "metadata": {
  "kernelspec": {
   "display_name": "Python 3 (ipykernel)",
   "language": "python",
   "name": "python3"
  },
  "language_info": {
   "codemirror_mode": {
    "name": "ipython",
    "version": 3
   },
   "file_extension": ".py",
   "mimetype": "text/x-python",
   "name": "python",
   "nbconvert_exporter": "python",
   "pygments_lexer": "ipython3",
   "version": "3.9.12"
  }
 },
 "nbformat": 4,
 "nbformat_minor": 5
}
