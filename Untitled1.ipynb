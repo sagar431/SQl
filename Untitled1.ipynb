{
 "cells": [
  {
   "cell_type": "markdown",
   "id": "722efe72",
   "metadata": {},
   "source": [
    "Q-1. Write an SQL query to print details of workers excluding first names, “Vipul” and\n",
    "“Satish” from Worker table.\n",
    "Q-2. Write an SQL query to print details of the Workers whose FIRST_NAME ends with\n",
    "‘h’ and contains six alphabets.\n",
    "Q-3. Write a query to validate Email of Employee."
   ]
  },
  {
   "cell_type": "markdown",
   "id": "43f53977",
   "metadata": {},
   "source": [
    "# Q-1:\n",
    "sql\n",
    "SELECT LAST_NAME, AGE, SALARY, DEPARTMENT \n",
    "FROM Worker \n",
    "WHERE FIRST_NAME NOT IN ('Vipul', 'Satish');\n",
    "\n",
    "\n",
    "Q-2:\n",
    "sql\n",
    "SELECT * \n",
    "FROM Worker \n",
    "WHERE FIRST_NAME LIKE '_____h';\n",
    "```\n",
    "\n",
    "Q-3:\n",
    "Email validation can vary based on specific requirements, but here is an example using a basic pattern matching approach:\n",
    "sql\n",
    "SELECT * \n",
    "FROM Employee \n",
    "WHERE EMAIL LIKE '%_@__%.__%';\n",
    "\n",
    "This query selects all rows from the `Employee` table where the `EMAIL` column contains an underscore followed by an at sign (`_@`), followed by any two characters (`__`), followed by a period (`.`), and then any number of characters (`%`). This pattern matches most email addresses, but it is not a complete validation of email syntax or domain."
   ]
  },
  {
   "cell_type": "code",
   "execution_count": null,
   "id": "2ba5ca5b",
   "metadata": {},
   "outputs": [],
   "source": []
  }
 ],
 "metadata": {
  "kernelspec": {
   "display_name": "Python 3 (ipykernel)",
   "language": "python",
   "name": "python3"
  },
  "language_info": {
   "codemirror_mode": {
    "name": "ipython",
    "version": 3
   },
   "file_extension": ".py",
   "mimetype": "text/x-python",
   "name": "python",
   "nbconvert_exporter": "python",
   "pygments_lexer": "ipython3",
   "version": "3.9.12"
  }
 },
 "nbformat": 4,
 "nbformat_minor": 5
}
