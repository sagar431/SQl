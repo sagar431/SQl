{
 "cells": [
  {
   "cell_type": "markdown",
   "id": "b8e25bf5",
   "metadata": {},
   "source": [
    "Q-17. Write an SQL query to show the top n (say 10) records of a table.\n",
    "Q-18. Write an SQL query to determine the nth (say n=5) highest salary from a table."
   ]
  },
  {
   "cell_type": "markdown",
   "id": "80969eca",
   "metadata": {},
   "source": [
    "\n",
    "\n",
    "Q-17. To show the top n records of a table, you can use the `LIMIT` clause in your SQL query. For example, to show the top 10 records of a table called `employees`, you can use the following query:\n",
    "\n",
    "```\n",
    "SELECT * FROM employees\n",
    "ORDER BY some_column DESC\n",
    "LIMIT 10;\n",
    "```\n",
    "\n",
    "Here, `some_column` is the column by which you want to sort the records in descending order. You can replace it with the appropriate column name in your table.\n",
    "\n",
    "Q-18. To determine the nth highest salary from a table, you can use the `LIMIT` and `OFFSET` clauses in your SQL query. For example, to determine the 5th highest salary from a table called `employees`, you can use the following query:\n",
    "\n",
    "```\n",
    "SELECT salary FROM employees\n",
    "ORDER BY salary DESC\n",
    "LIMIT 1 OFFSET 4;\n",
    "```\n",
    "\n",
    "Here, `salary` is the column containing the salary information in your table. The `ORDER BY` clause is used to sort the salary column in descending order, and the `LIMIT` clause is used to limit the output to one row. The `OFFSET` clause is used to skip the first 4 rows (i.e., the top 4 highest salaries) and fetch the 5th highest salary. You can replace the `4` in the `OFFSET` clause with `n-1`, where `n` is the value of the nth highest salary you want to determine."
   ]
  },
  {
   "cell_type": "code",
   "execution_count": null,
   "id": "54b4a9e1",
   "metadata": {},
   "outputs": [],
   "source": []
  }
 ],
 "metadata": {
  "kernelspec": {
   "display_name": "Python 3 (ipykernel)",
   "language": "python",
   "name": "python3"
  },
  "language_info": {
   "codemirror_mode": {
    "name": "ipython",
    "version": 3
   },
   "file_extension": ".py",
   "mimetype": "text/x-python",
   "name": "python",
   "nbconvert_exporter": "python",
   "pygments_lexer": "ipython3",
   "version": "3.9.12"
  }
 },
 "nbformat": 4,
 "nbformat_minor": 5
}
