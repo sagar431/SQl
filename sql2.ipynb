{
 "cells": [
  {
   "cell_type": "markdown",
   "id": "c6b72147",
   "metadata": {},
   "source": [
    "Q-1. Write an SQL query to print the first three characters of  FIRST_NAME from Worker\n",
    "table.\n",
    " Q-2. Write an SQL query to find the position of the alphabet (‘a’) in the first name\n",
    "column ‘Amitabh’ from Worker table.\n",
    "Q-3. Write an SQL query to print the name of employees having the highest salary in each\n",
    "department."
   ]
  },
  {
   "cell_type": "markdown",
   "id": "cb4fb768",
   "metadata": {},
   "source": [
    "Q-1. SQL query to print the first three characters of FIRST_NAME from Worker table:\n",
    "```\n",
    "SELECT SUBSTRING(FIRST_NAME, 1, 3) AS WORKER_NAME FROM Worker;\n",
    "```\n",
    "\n",
    "Q-2. SQL query to find the position of the alphabet ('a') in the first name column 'Amitabh' from Worker table:\n",
    "```\n",
    "SELECT INSTR('Amitabh', 'a') AS POSITION_OF_A;\n",
    "```\n",
    "\n",
    "Q-3. SQL query to print the name of employees having the highest salary in each department:\n",
    "```\n",
    "SELECT w.DEPARTMENT, w.FIRST_NAME, w.LAST_NAME, w.SALARY\n",
    "FROM Worker w\n",
    "WHERE (w.DEPARTMENT, w.SALARY) IN (\n",
    "    SELECT DEPARTMENT, MAX(SALARY)\n",
    "    FROM Worker\n",
    "    GROUP BY DEPARTMENT\n",
    ");\n",
    "```"
   ]
  },
  {
   "cell_type": "code",
   "execution_count": null,
   "id": "1eddddec",
   "metadata": {},
   "outputs": [],
   "source": []
  }
 ],
 "metadata": {
  "kernelspec": {
   "display_name": "Python 3 (ipykernel)",
   "language": "python",
   "name": "python3"
  },
  "language_info": {
   "codemirror_mode": {
    "name": "ipython",
    "version": 3
   },
   "file_extension": ".py",
   "mimetype": "text/x-python",
   "name": "python",
   "nbconvert_exporter": "python",
   "pygments_lexer": "ipython3",
   "version": "3.9.12"
  }
 },
 "nbformat": 4,
 "nbformat_minor": 5
}
