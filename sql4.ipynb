{
 "cells": [
  {
   "cell_type": "markdown",
   "id": "0ff785a6",
   "metadata": {},
   "source": [
    "Q-1. Write an SQL query to print the FIRST_NAME from Worker table after replacing ‘a’\n",
    "with ‘A’.\n",
    "Q-2. Write an SQL query to print all Worker details from the Worker table order by\n",
    "FIRST_NAME Ascending and DEPARTMENT Descending.\n",
    "Q-3. Write an SQL query to fetch the names of workers who earn the highest salary."
   ]
  },
  {
   "cell_type": "markdown",
   "id": "2a47d28c",
   "metadata": {},
   "source": [
    "Q-1. SQL query to print the FIRST_NAME from Worker table after replacing ‘a’ with ‘A’:\n",
    "\n",
    "```SQL\n",
    "SELECT REPLACE(FIRST_NAME, 'a', 'A') AS FIRST_NAME_MODIFIED\n",
    "FROM Worker;\n",
    "```\n",
    "\n",
    "Q-2. SQL query to print all Worker details from the Worker table order by FIRST_NAME Ascending and DEPARTMENT Descending:\n",
    "\n",
    "```SQL\n",
    "SELECT * FROM Worker\n",
    "ORDER BY FIRST_NAME ASC, DEPARTMENT DESC;\n",
    "```\n",
    "\n",
    "Q-3. SQL query to fetch the names of workers who earn the highest salary:\n",
    "\n",
    "```SQL\n",
    "SELECT FIRST_NAME, LAST_NAME\n",
    "FROM Worker\n",
    "WHERE SALARY = (SELECT MAX(SALARY) FROM Worker);\n",
    "```"
   ]
  },
  {
   "cell_type": "code",
   "execution_count": null,
   "id": "4ea4972a",
   "metadata": {},
   "outputs": [],
   "source": []
  }
 ],
 "metadata": {
  "kernelspec": {
   "display_name": "Python 3 (ipykernel)",
   "language": "python",
   "name": "python3"
  },
  "language_info": {
   "codemirror_mode": {
    "name": "ipython",
    "version": 3
   },
   "file_extension": ".py",
   "mimetype": "text/x-python",
   "name": "python",
   "nbconvert_exporter": "python",
   "pygments_lexer": "ipython3",
   "version": "3.9.12"
  }
 },
 "nbformat": 4,
 "nbformat_minor": 5
}
